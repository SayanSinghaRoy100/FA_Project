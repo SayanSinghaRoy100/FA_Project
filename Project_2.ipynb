{
  "cells": [
    {
      "cell_type": "markdown",
      "source": [
        "# 015043 Project-2"
      ],
      "metadata": {
        "id": "NFTjSOZE-hrJ"
      }
    },
    {
      "cell_type": "code",
      "execution_count": null,
      "metadata": {
        "_cell_guid": "b1076dfc-b9ad-4769-8c92-a6c4dae69d19",
        "_uuid": "8f2839f25d086af736a60e9eeb907d3b93b6e0e5",
        "execution": {
          "iopub.execute_input": "2021-03-22T21:05:21.398894Z",
          "iopub.status.busy": "2021-03-22T21:05:21.398094Z",
          "iopub.status.idle": "2021-03-22T21:06:34.853148Z",
          "shell.execute_reply": "2021-03-22T21:06:34.853861Z"
        },
        "papermill": {
          "duration": 73.490119,
          "end_time": "2021-03-22T21:06:34.854246",
          "exception": false,
          "start_time": "2021-03-22T21:05:21.364127",
          "status": "completed"
        },
        "tags": [],
        "id": "oLAiVgyf-eLC",
        "outputId": "9b286ec4-db13-45a2-a5ed-4b993116dd10"
      },
      "outputs": [
        {
          "name": "stdout",
          "output_type": "stream",
          "text": [
            "debconf: delaying package configuration, since apt-utils is not installed\r\n",
            "openjdk version \"1.8.0_282\"\r\n",
            "OpenJDK Runtime Environment (build 1.8.0_282-8u282-b08-0ubuntu1~18.04-b08)\r\n",
            "OpenJDK 64-Bit Server VM (build 25.282-b08, mixed mode)\r\n",
            "Collecting pyspark==2.4.7\r\n",
            "  Downloading pyspark-2.4.7.tar.gz (217.9 MB)\r\n",
            "\u001b[K     |████████████████████████████████| 217.9 MB 52 kB/s \r\n",
            "\u001b[?25hCollecting spark-nlp==2.7.5\r\n",
            "  Downloading spark_nlp-2.7.5-py2.py3-none-any.whl (139 kB)\r\n",
            "\u001b[K     |████████████████████████████████| 139 kB 57.7 MB/s \r\n",
            "\u001b[?25hCollecting py4j==0.10.7\r\n",
            "  Downloading py4j-0.10.7-py2.py3-none-any.whl (197 kB)\r\n",
            "\u001b[K     |████████████████████████████████| 197 kB 43.3 MB/s \r\n",
            "\u001b[?25hBuilding wheels for collected packages: pyspark\r\n",
            "  Building wheel for pyspark (setup.py) ... \u001b[?25l-\b \b\\\b \b|\b \b/\b \b-\b \b\\\b \b|\b \b/\b \b-\b \b\\\b \b|\b \b/\b \b-\b \b\\\b \b|\b \b/\b \b-\b \b\\\b \b|\b \b/\b \b-\b \b\\\b \b|\b \b/\b \b-\b \b\\\b \b|\b \b/\b \b-\b \b\\\b \b|\b \b/\b \b-\b \b\\\b \b|\b \b/\b \b-\b \b\\\b \b|\b \b/\b \b-\b \b\\\b \b|\b \b/\b \b-\b \b\\\b \b|\b \b/\b \b-\b \b\\\b \b|\b \b/\b \b-\b \b\\\b \b|\b \bdone\r\n",
            "\u001b[?25h  Created wheel for pyspark: filename=pyspark-2.4.7-py2.py3-none-any.whl size=218279465 sha256=f084f1d700f3919f29335e58446be324132d0b76819ffffa21da00be13e399a1\r\n",
            "  Stored in directory: /root/.cache/pip/wheels/da/28/74/56054e5fe3413c8c58b67e4d7483d4864fe483920c9b8ec754\r\n",
            "Successfully built pyspark\r\n",
            "Installing collected packages: py4j, spark-nlp, pyspark\r\n",
            "Successfully installed py4j-0.10.7 pyspark-2.4.7 spark-nlp-2.7.5\r\n",
            "Apache Spark version 2.4.7\n",
            "Spark NLP version 2.7.5\n",
            "CPU times: user 3.04 s, sys: 1.16 s, total: 4.19 s\n",
            "Wall time: 1min 13s\n"
          ]
        }
      ],
      "source": [
        "%%time\n",
        "\n",
        "import numpy as np  \n",
        "import pandas as pd  \n",
        "from tqdm.auto import tqdm\n",
        "tqdm.pandas()\n",
        "\n",
        "import os\n",
        "\n",
        "# Install java\n",
        "! apt-get install -y openjdk-8-jdk-headless -qq > /dev/null\n",
        "os.environ[\"JAVA_HOME\"] = \"/usr/lib/jvm/java-8-openjdk-amd64\"\n",
        "os.environ[\"PATH\"] = os.environ[\"JAVA_HOME\"] + \"/bin:\" + os.environ[\"PATH\"]\n",
        "! java -version\n",
        "\n",
        "# Install pyspark\n",
        "! pip install --ignore-installed pyspark==2.4.7 spark-nlp==2.7.5\n",
        "\n",
        "#!ls '/usr/lib/jvm/java-8-openjdk-amd64'\n",
        "os.environ['JAVA_HOME'] = \"/usr/lib/jvm/java-8-openjdk-amd64\"\n",
        "os.environ['PATH'] = os.environ['JAVA_HOME'] + \"/bin:\" + os.environ['PATH']\n",
        "\n",
        "from pyspark.ml import Pipeline\n",
        "from pyspark.sql import SparkSession\n",
        "import pyspark.sql.functions as F\n",
        "\n",
        "import sparknlp\n",
        "from sparknlp.annotator import *\n",
        "from sparknlp.base import *\n",
        "spark = sparknlp.start()\n",
        "\n",
        "from sklearn.metrics import classification_report\n",
        "\n",
        "print(\"Apache Spark version\", spark.version)\n",
        "print(\"Spark NLP version\", sparknlp.version())"
      ]
    },
    {
      "cell_type": "markdown",
      "metadata": {
        "papermill": {
          "duration": 0.132034,
          "end_time": "2021-03-22T21:06:35.121945",
          "exception": false,
          "start_time": "2021-03-22T21:06:34.989911",
          "status": "completed"
        },
        "tags": [],
        "id": "YRyjzljA-eLE"
      },
      "source": [
        "# Data"
      ]
    },
    {
      "cell_type": "code",
      "source": [
        "from google.colab import drive\n",
        "drive.mount('/gdrive')"
      ],
      "metadata": {
        "colab": {
          "base_uri": "https://localhost:8080/"
        },
        "id": "I_mrSVUI-7j-",
        "outputId": "c5c29364-956d-4582-94db-698ce157e91c"
      },
      "execution_count": 1,
      "outputs": [
        {
          "output_type": "stream",
          "name": "stdout",
          "text": [
            "Mounted at /gdrive\n"
          ]
        }
      ]
    },
    {
      "cell_type": "code",
      "execution_count": null,
      "metadata": {
        "execution": {
          "iopub.execute_input": "2021-03-22T21:06:35.398881Z",
          "iopub.status.busy": "2021-03-22T21:06:35.398060Z",
          "iopub.status.idle": "2021-03-22T21:06:35.459651Z",
          "shell.execute_reply": "2021-03-22T21:06:35.460182Z"
        },
        "papermill": {
          "duration": 0.2022,
          "end_time": "2021-03-22T21:06:35.460364",
          "exception": false,
          "start_time": "2021-03-22T21:06:35.258164",
          "status": "completed"
        },
        "tags": [],
        "id": "pRpkZdoZ-eLF",
        "outputId": "ad1487bd-1bea-4541-c64b-0455c9e0fa88"
      },
      "outputs": [
        {
          "name": "stdout",
          "output_type": "stream",
          "text": [
            "(4833, 2)\n"
          ]
        },
        {
          "data": {
            "text/html": [
              "<div>\n",
              "<style scoped>\n",
              "    .dataframe tbody tr th:only-of-type {\n",
              "        vertical-align: middle;\n",
              "    }\n",
              "\n",
              "    .dataframe tbody tr th {\n",
              "        vertical-align: top;\n",
              "    }\n",
              "\n",
              "    .dataframe thead th {\n",
              "        text-align: right;\n",
              "    }\n",
              "</style>\n",
              "<table border=\"1\" class=\"dataframe\">\n",
              "  <thead>\n",
              "    <tr style=\"text-align: right;\">\n",
              "      <th></th>\n",
              "      <th>intent</th>\n",
              "      <th>snippet</th>\n",
              "    </tr>\n",
              "  </thead>\n",
              "  <tbody>\n",
              "    <tr>\n",
              "      <th>0</th>\n",
              "      <td>atis_flight</td>\n",
              "      <td>what flights are available from pittsburgh to...</td>\n",
              "    </tr>\n",
              "    <tr>\n",
              "      <th>1</th>\n",
              "      <td>atis_flight_time</td>\n",
              "      <td>what is the arrival time in san francisco for...</td>\n",
              "    </tr>\n",
              "    <tr>\n",
              "      <th>2</th>\n",
              "      <td>atis_airfare</td>\n",
              "      <td>cheapest airfare from tacoma to orlando</td>\n",
              "    </tr>\n",
              "    <tr>\n",
              "      <th>3</th>\n",
              "      <td>atis_airfare</td>\n",
              "      <td>round trip fares from pittsburgh to philadelp...</td>\n",
              "    </tr>\n",
              "    <tr>\n",
              "      <th>4</th>\n",
              "      <td>atis_flight</td>\n",
              "      <td>i need a flight tomorrow from columbus to min...</td>\n",
              "    </tr>\n",
              "  </tbody>\n",
              "</table>\n",
              "</div>"
            ],
            "text/plain": [
              "             intent                                            snippet\n",
              "0       atis_flight   what flights are available from pittsburgh to...\n",
              "1  atis_flight_time   what is the arrival time in san francisco for...\n",
              "2      atis_airfare            cheapest airfare from tacoma to orlando\n",
              "3      atis_airfare   round trip fares from pittsburgh to philadelp...\n",
              "4       atis_flight   i need a flight tomorrow from columbus to min..."
            ]
          },
          "execution_count": 2,
          "metadata": {},
          "output_type": "execute_result"
        }
      ],
      "source": [
        "train = pd.read_csv('/gdrive/MyDrive/Colab_Notebooks/FA/Project_24thDEC_2021/atis_intents_train.csv')\n",
        "train.columns = ['intent', 'snippet']\n",
        "\n",
        "print(train.shape)\n",
        "train.head()"
      ]
    },
    {
      "cell_type": "code",
      "execution_count": null,
      "metadata": {
        "execution": {
          "iopub.execute_input": "2021-03-22T21:06:35.738390Z",
          "iopub.status.busy": "2021-03-22T21:06:35.737631Z",
          "iopub.status.idle": "2021-03-22T21:06:35.765834Z",
          "shell.execute_reply": "2021-03-22T21:06:35.765228Z"
        },
        "papermill": {
          "duration": 0.171421,
          "end_time": "2021-03-22T21:06:35.766006",
          "exception": false,
          "start_time": "2021-03-22T21:06:35.594585",
          "status": "completed"
        },
        "tags": [],
        "id": "o_JDW3Zm-eLF",
        "outputId": "0aadc195-c55a-4280-bfc1-ffb12ae7a5c8"
      },
      "outputs": [
        {
          "data": {
            "text/plain": [
              "(atis_flight            3665\n",
              " atis_airfare            423\n",
              " atis_ground_service     255\n",
              " atis_airline            157\n",
              " atis_abbreviation       147\n",
              " atis_aircraft            81\n",
              " atis_flight_time         54\n",
              " atis_quantity            51\n",
              " Name: intent, dtype: int64,\n",
              " atis_flight            0.758328\n",
              " atis_airfare           0.087523\n",
              " atis_ground_service    0.052762\n",
              " atis_airline           0.032485\n",
              " atis_abbreviation      0.030416\n",
              " atis_aircraft          0.016760\n",
              " atis_flight_time       0.011173\n",
              " atis_quantity          0.010552\n",
              " Name: intent, dtype: float64)"
            ]
          },
          "execution_count": 3,
          "metadata": {},
          "output_type": "execute_result"
        }
      ],
      "source": [
        "train.intent.value_counts(), train.intent.value_counts(normalize=True)"
      ]
    },
    {
      "cell_type": "code",
      "execution_count": null,
      "metadata": {
        "execution": {
          "iopub.execute_input": "2021-03-22T21:06:36.107610Z",
          "iopub.status.busy": "2021-03-22T21:06:36.106511Z",
          "iopub.status.idle": "2021-03-22T21:06:36.136636Z",
          "shell.execute_reply": "2021-03-22T21:06:36.137683Z"
        },
        "papermill": {
          "duration": 0.211127,
          "end_time": "2021-03-22T21:06:36.138146",
          "exception": false,
          "start_time": "2021-03-22T21:06:35.927019",
          "status": "completed"
        },
        "tags": [],
        "id": "nnmwPw1t-eLG",
        "outputId": "c0baa16c-2617-4e08-9f4a-501df6f85148"
      },
      "outputs": [
        {
          "name": "stdout",
          "output_type": "stream",
          "text": [
            "(799, 2)\n"
          ]
        },
        {
          "data": {
            "text/html": [
              "<div>\n",
              "<style scoped>\n",
              "    .dataframe tbody tr th:only-of-type {\n",
              "        vertical-align: middle;\n",
              "    }\n",
              "\n",
              "    .dataframe tbody tr th {\n",
              "        vertical-align: top;\n",
              "    }\n",
              "\n",
              "    .dataframe thead th {\n",
              "        text-align: right;\n",
              "    }\n",
              "</style>\n",
              "<table border=\"1\" class=\"dataframe\">\n",
              "  <thead>\n",
              "    <tr style=\"text-align: right;\">\n",
              "      <th></th>\n",
              "      <th>intent</th>\n",
              "      <th>snippet</th>\n",
              "    </tr>\n",
              "  </thead>\n",
              "  <tbody>\n",
              "    <tr>\n",
              "      <th>0</th>\n",
              "      <td>atis_airfare</td>\n",
              "      <td>on april first i need a ticket from tacoma to...</td>\n",
              "    </tr>\n",
              "    <tr>\n",
              "      <th>1</th>\n",
              "      <td>atis_flight</td>\n",
              "      <td>on april first i need a flight going from pho...</td>\n",
              "    </tr>\n",
              "    <tr>\n",
              "      <th>2</th>\n",
              "      <td>atis_flight</td>\n",
              "      <td>i would like a flight traveling one way from ...</td>\n",
              "    </tr>\n",
              "    <tr>\n",
              "      <th>3</th>\n",
              "      <td>atis_flight</td>\n",
              "      <td>i would like a flight from orlando to salt la...</td>\n",
              "    </tr>\n",
              "    <tr>\n",
              "      <th>4</th>\n",
              "      <td>atis_flight</td>\n",
              "      <td>i need a flight from toronto to newark one wa...</td>\n",
              "    </tr>\n",
              "  </tbody>\n",
              "</table>\n",
              "</div>"
            ],
            "text/plain": [
              "         intent                                            snippet\n",
              "0  atis_airfare   on april first i need a ticket from tacoma to...\n",
              "1   atis_flight   on april first i need a flight going from pho...\n",
              "2   atis_flight   i would like a flight traveling one way from ...\n",
              "3   atis_flight   i would like a flight from orlando to salt la...\n",
              "4   atis_flight   i need a flight from toronto to newark one wa..."
            ]
          },
          "execution_count": 4,
          "metadata": {},
          "output_type": "execute_result"
        }
      ],
      "source": [
        "test = pd.read_csv('/gdrive/MyDrive/Colab_Notebooks/FA/Project_24thDEC_2021/atis_intents_test.csv')\n",
        "test.columns = ['intent', 'snippet']\n",
        "\n",
        "print(test.shape)\n",
        "test.head()"
      ]
    },
    {
      "cell_type": "code",
      "execution_count": null,
      "metadata": {
        "execution": {
          "iopub.execute_input": "2021-03-22T21:06:36.486529Z",
          "iopub.status.busy": "2021-03-22T21:06:36.485439Z",
          "iopub.status.idle": "2021-03-22T21:06:36.497009Z",
          "shell.execute_reply": "2021-03-22T21:06:36.497615Z"
        },
        "papermill": {
          "duration": 0.182022,
          "end_time": "2021-03-22T21:06:36.497840",
          "exception": false,
          "start_time": "2021-03-22T21:06:36.315818",
          "status": "completed"
        },
        "tags": [],
        "id": "vbl5qjBE-eLH",
        "outputId": "1977e6b8-a241-46a1-c463-9f945c74e684"
      },
      "outputs": [
        {
          "data": {
            "text/plain": [
              "(atis_flight            631\n",
              " atis_airfare            48\n",
              " atis_airline            38\n",
              " atis_ground_service     36\n",
              " atis_abbreviation       33\n",
              " atis_aircraft            9\n",
              " atis_quantity            3\n",
              " atis_flight_time         1\n",
              " Name: intent, dtype: int64,\n",
              " atis_flight            0.789737\n",
              " atis_airfare           0.060075\n",
              " atis_airline           0.047559\n",
              " atis_ground_service    0.045056\n",
              " atis_abbreviation      0.041302\n",
              " atis_aircraft          0.011264\n",
              " atis_quantity          0.003755\n",
              " atis_flight_time       0.001252\n",
              " Name: intent, dtype: float64)"
            ]
          },
          "execution_count": 5,
          "metadata": {},
          "output_type": "execute_result"
        }
      ],
      "source": [
        "test.intent.value_counts(), test.intent.value_counts(normalize=True)"
      ]
    },
    {
      "cell_type": "markdown",
      "metadata": {
        "papermill": {
          "duration": 0.144187,
          "end_time": "2021-03-22T21:06:36.821918",
          "exception": false,
          "start_time": "2021-03-22T21:06:36.677731",
          "status": "completed"
        },
        "tags": [],
        "id": "eVoqYOI0-eLI"
      },
      "source": [
        "# Intent classification with a Spark NLP "
      ]
    },
    {
      "cell_type": "code",
      "execution_count": null,
      "metadata": {
        "execution": {
          "iopub.execute_input": "2021-03-22T21:06:37.388210Z",
          "iopub.status.busy": "2021-03-22T21:06:37.387451Z",
          "iopub.status.idle": "2021-03-22T21:08:06.349645Z",
          "shell.execute_reply": "2021-03-22T21:08:06.350287Z"
        },
        "papermill": {
          "duration": 89.113186,
          "end_time": "2021-03-22T21:08:06.350525",
          "exception": false,
          "start_time": "2021-03-22T21:06:37.237339",
          "status": "completed"
        },
        "tags": [],
        "id": "m8ANYVHm-eLJ",
        "outputId": "55ec64fc-1213-4fc0-d9d3-ed12326c1652"
      },
      "outputs": [
        {
          "name": "stdout",
          "output_type": "stream",
          "text": [
            "tfhub_use download started this may take some time.\n",
            "Approximate size to download 923.7 MB\n",
            "[OK!]\n",
            "classifierdl_use_atis download started this may take some time.\n",
            "Approximate size to download 21.1 MB\n",
            "[OK!]\n"
          ]
        }
      ],
      "source": [
        "document_assembler = DocumentAssembler()\\\n",
        "    .setInputCol(\"text\")\\\n",
        "    .setOutputCol(\"document\")\n",
        "\n",
        "use = UniversalSentenceEncoder.pretrained('tfhub_use', lang=\"en\") \\\n",
        "    .setInputCols([\"document\"])\\\n",
        "    .setOutputCol(\"sentence_embeddings\")\n",
        "\n",
        "document_classifier = ClassifierDLModel.pretrained('classifierdl_use_atis', 'en') \\\n",
        "  .setInputCols([\"document\", \"sentence_embeddings\"]) \\\n",
        "  .setOutputCol(\"class\")\n",
        "\n",
        "nlpPipeline = Pipeline(stages=[document_assembler, use, document_classifier])\n",
        "light_pipeline = LightPipeline(nlpPipeline.fit(spark.createDataFrame([['']]).toDF(\"text\")))"
      ]
    },
    {
      "cell_type": "code",
      "execution_count": null,
      "metadata": {
        "execution": {
          "iopub.execute_input": "2021-03-22T21:08:06.646652Z",
          "iopub.status.busy": "2021-03-22T21:08:06.645794Z",
          "iopub.status.idle": "2021-03-22T21:08:08.158245Z",
          "shell.execute_reply": "2021-03-22T21:08:08.157715Z"
        },
        "papermill": {
          "duration": 1.662139,
          "end_time": "2021-03-22T21:08:08.158429",
          "exception": false,
          "start_time": "2021-03-22T21:08:06.496290",
          "status": "completed"
        },
        "tags": [],
        "id": "hhKs-O9r-eLJ",
        "outputId": "1c85812d-69cd-4044-832c-62c11489f21e"
      },
      "outputs": [
        {
          "data": {
            "text/plain": [
              "[{'document': ['I want to fly from Albany NY to Tampa Florida.'],\n",
              "  'sentence_embeddings': ['I want to fly from Albany NY to Tampa Florida.'],\n",
              "  'class': ['atis_flight']},\n",
              " {'document': ['what would be the cost of the flight '],\n",
              "  'sentence_embeddings': ['what would be the cost of the flight '],\n",
              "  'class': ['atis_airfare']}]"
            ]
          },
          "execution_count": 7,
          "metadata": {},
          "output_type": "execute_result"
        }
      ],
      "source": [
        "example = ['I want to fly from Albany NY to Tampa Florida.', 'what would be the cost of the flight ']\n",
        "result = light_pipeline.annotate(example)\n",
        "result"
      ]
    },
    {
      "cell_type": "markdown",
      "metadata": {
        "papermill": {
          "duration": 0.145348,
          "end_time": "2021-03-22T21:08:08.450577",
          "exception": false,
          "start_time": "2021-03-22T21:08:08.305229",
          "status": "completed"
        },
        "tags": [],
        "id": "XU91sG6S-eLK"
      },
      "source": [
        "### Performance on test"
      ]
    },
    {
      "cell_type": "code",
      "execution_count": null,
      "metadata": {
        "execution": {
          "iopub.execute_input": "2021-03-22T21:08:08.783176Z",
          "iopub.status.busy": "2021-03-22T21:08:08.781888Z",
          "iopub.status.idle": "2021-03-22T21:08:29.479635Z",
          "shell.execute_reply": "2021-03-22T21:08:29.480363Z"
        },
        "papermill": {
          "duration": 20.860653,
          "end_time": "2021-03-22T21:08:29.480619",
          "exception": false,
          "start_time": "2021-03-22T21:08:08.619966",
          "status": "completed"
        },
        "tags": [],
        "id": "JGYSJbq8-eLK",
        "outputId": "484f1f36-68ad-4116-8cd1-e7845a98b223"
      },
      "outputs": [
        {
          "name": "stdout",
          "output_type": "stream",
          "text": [
            "                     precision    recall  f1-score   support\n",
            "\n",
            "  atis_abbreviation       1.00      1.00      1.00        33\n",
            "      atis_aircraft       0.00      0.00      0.00         9\n",
            "       atis_airfare       0.61      1.00      0.76        48\n",
            "       atis_airline       0.49      1.00      0.66        38\n",
            "        atis_flight       0.99      0.90      0.95       631\n",
            "   atis_flight_time       0.00      0.00      0.00         1\n",
            "atis_ground_service       0.97      1.00      0.99        36\n",
            "      atis_quantity       0.00      0.00      0.00         3\n",
            "\n",
            "           accuracy                           0.91       799\n",
            "          macro avg       0.51      0.61      0.54       799\n",
            "       weighted avg       0.93      0.91      0.91       799\n",
            "\n"
          ]
        },
        {
          "name": "stderr",
          "output_type": "stream",
          "text": [
            "/opt/conda/lib/python3.7/site-packages/sklearn/metrics/_classification.py:1245: UndefinedMetricWarning: Precision and F-score are ill-defined and being set to 0.0 in labels with no predicted samples. Use `zero_division` parameter to control this behavior.\n",
            "  _warn_prf(average, modifier, msg_start, len(result))\n",
            "/opt/conda/lib/python3.7/site-packages/sklearn/metrics/_classification.py:1245: UndefinedMetricWarning: Precision and F-score are ill-defined and being set to 0.0 in labels with no predicted samples. Use `zero_division` parameter to control this behavior.\n",
            "  _warn_prf(average, modifier, msg_start, len(result))\n",
            "/opt/conda/lib/python3.7/site-packages/sklearn/metrics/_classification.py:1245: UndefinedMetricWarning: Precision and F-score are ill-defined and being set to 0.0 in labels with no predicted samples. Use `zero_division` parameter to control this behavior.\n",
            "  _warn_prf(average, modifier, msg_start, len(result))\n"
          ]
        }
      ],
      "source": [
        "example = test.snippet.tolist()\n",
        "result = light_pipeline.annotate(example)\n",
        "Preds = []\n",
        "for j in range(len(result)):\n",
        "    Preds.append(result[j]['class'][0])\n",
        "    \n",
        "Truth = test.intent.tolist()\n",
        "\n",
        "print(classification_report(Truth, Preds))"
      ]
    },
    {
      "cell_type": "code",
      "execution_count": null,
      "metadata": {
        "execution": {
          "iopub.execute_input": "2021-03-22T21:08:30.071783Z",
          "iopub.status.busy": "2021-03-22T21:08:30.071083Z",
          "iopub.status.idle": "2021-03-22T21:08:30.078588Z",
          "shell.execute_reply": "2021-03-22T21:08:30.078043Z"
        },
        "papermill": {
          "duration": 0.162997,
          "end_time": "2021-03-22T21:08:30.078744",
          "exception": false,
          "start_time": "2021-03-22T21:08:29.915747",
          "status": "completed"
        },
        "tags": [],
        "id": "6biOWPWj-eLL",
        "outputId": "51d5eeae-d388-46a5-d116-b6770c155c66"
      },
      "outputs": [
        {
          "data": {
            "text/plain": [
              "(786, 2)"
            ]
          },
          "execution_count": 9,
          "metadata": {},
          "output_type": "execute_result"
        }
      ],
      "source": [
        "test = test[(test['intent'] != 'atis_aircraft') &\n",
        "                   (test['intent'] != 'atis_flight_time') &\n",
        "                   (test['intent'] != 'atis_quantity')  ] \n",
        "test.shape"
      ]
    },
    {
      "cell_type": "code",
      "execution_count": null,
      "metadata": {
        "execution": {
          "iopub.execute_input": "2021-03-22T21:08:30.376266Z",
          "iopub.status.busy": "2021-03-22T21:08:30.375603Z",
          "iopub.status.idle": "2021-03-22T21:08:49.441051Z",
          "shell.execute_reply": "2021-03-22T21:08:49.439951Z"
        },
        "papermill": {
          "duration": 19.217316,
          "end_time": "2021-03-22T21:08:49.441291",
          "exception": false,
          "start_time": "2021-03-22T21:08:30.223975",
          "status": "completed"
        },
        "tags": [],
        "id": "CS_Ju4JF-eLL",
        "outputId": "2da51734-aa0b-4910-b24c-89aca3099219"
      },
      "outputs": [
        {
          "name": "stdout",
          "output_type": "stream",
          "text": [
            "                     precision    recall  f1-score   support\n",
            "\n",
            "  atis_abbreviation       1.00      1.00      1.00        33\n",
            "       atis_airfare       0.62      1.00      0.76        48\n",
            "       atis_airline       0.56      1.00      0.72        38\n",
            "        atis_flight       1.00      0.90      0.95       631\n",
            "atis_ground_service       0.97      1.00      0.99        36\n",
            "\n",
            "           accuracy                           0.92       786\n",
            "          macro avg       0.83      0.98      0.88       786\n",
            "       weighted avg       0.95      0.92      0.93       786\n",
            "\n"
          ]
        }
      ],
      "source": [
        "example = test.snippet.tolist()\n",
        "result = light_pipeline.annotate(example)\n",
        "Preds = []\n",
        "for j in range(len(result)):\n",
        "    Preds.append(result[j]['class'][0])\n",
        "    \n",
        "Truth = test.intent.tolist()\n",
        "\n",
        "print(classification_report(Truth, Preds))"
      ]
    },
    {
      "cell_type": "code",
      "execution_count": null,
      "metadata": {
        "execution": {
          "iopub.execute_input": "2021-03-22T21:08:50.029785Z",
          "iopub.status.busy": "2021-03-22T21:08:50.028979Z",
          "iopub.status.idle": "2021-03-22T21:08:51.812946Z",
          "shell.execute_reply": "2021-03-22T21:08:51.813828Z"
        },
        "papermill": {
          "duration": 1.935842,
          "end_time": "2021-03-22T21:08:51.814060",
          "exception": false,
          "start_time": "2021-03-22T21:08:49.878218",
          "status": "completed"
        },
        "tags": [],
        "id": "vERBr4ym-eLM",
        "outputId": "ba81a43c-c328-4912-ef07-11af0c324ab7"
      },
      "outputs": [
        {
          "name": "stdout",
          "output_type": "stream",
          "text": [
            "+-------------------+--------------------------------------------------+\n",
            "|             intent|                                           snippet|\n",
            "+-------------------+--------------------------------------------------+\n",
            "|        atis_flight| what flights are available from pittsburgh to ...|\n",
            "|   atis_flight_time| what is the arrival time in san francisco for ...|\n",
            "|       atis_airfare|           cheapest airfare from tacoma to orlando|\n",
            "|       atis_airfare| round trip fares from pittsburgh to philadelph...|\n",
            "|        atis_flight| i need a flight tomorrow from columbus to minn...|\n",
            "|      atis_aircraft| what kind of aircraft is used on a flight from...|\n",
            "|        atis_flight| show me the flights from pittsburgh to los ang...|\n",
            "|        atis_flight|             all flights from boston to washington|\n",
            "|atis_ground_service| what kind of ground transportation is availabl...|\n",
            "|        atis_flight|  show me the flights from dallas to san francisco|\n",
            "|        atis_flight| show me the flights from san diego to newark b...|\n",
            "|        atis_flight|    what is the cheapest flight from boston to bwi|\n",
            "|        atis_flight|               all flights to baltimore after 6 pm|\n",
            "|       atis_airfare| show me the first class fares from boston to d...|\n",
            "|atis_ground_service|       show me the ground transportation in denver|\n",
            "|        atis_flight| all flights from denver to pittsburgh leaving ...|\n",
            "|        atis_flight| i need information on flights for tuesday leav...|\n",
            "|        atis_flight| please give me the flights from boston to pitt...|\n",
            "|        atis_flight| i would like to fly from denver to pittsburgh ...|\n",
            "|        atis_flight|      show me the flights from san diego to newark|\n",
            "+-------------------+--------------------------------------------------+\n",
            "only showing top 20 rows\n",
            "\n"
          ]
        }
      ],
      "source": [
        "trainDataset = spark.createDataFrame(train)\n",
        "trainDataset.show(truncate=50)"
      ]
    },
    {
      "cell_type": "code",
      "execution_count": null,
      "metadata": {
        "execution": {
          "iopub.execute_input": "2021-03-22T21:08:52.113069Z",
          "iopub.status.busy": "2021-03-22T21:08:52.112321Z",
          "iopub.status.idle": "2021-03-22T21:08:55.311008Z",
          "shell.execute_reply": "2021-03-22T21:08:55.309746Z"
        },
        "papermill": {
          "duration": 3.351105,
          "end_time": "2021-03-22T21:08:55.311272",
          "exception": false,
          "start_time": "2021-03-22T21:08:51.960167",
          "status": "completed"
        },
        "tags": [],
        "id": "0oIar0W--eLM",
        "outputId": "994d56a9-8ce4-44ff-d15b-4eee9d2766ce"
      },
      "outputs": [
        {
          "name": "stdout",
          "output_type": "stream",
          "text": [
            "4833\n",
            "+-------------------+-----+\n",
            "|             intent|count|\n",
            "+-------------------+-----+\n",
            "|        atis_flight| 3665|\n",
            "|       atis_airfare|  423|\n",
            "|atis_ground_service|  255|\n",
            "|       atis_airline|  157|\n",
            "|  atis_abbreviation|  147|\n",
            "|      atis_aircraft|   81|\n",
            "|   atis_flight_time|   54|\n",
            "|      atis_quantity|   51|\n",
            "+-------------------+-----+\n",
            "\n"
          ]
        }
      ],
      "source": [
        "from pyspark.sql.functions import col\n",
        "\n",
        "print(trainDataset.count())\n",
        "\n",
        "trainDataset.groupBy(\"intent\") \\\n",
        "    .count() \\\n",
        "    .orderBy(col(\"count\").desc()) \\\n",
        "    .show()"
      ]
    },
    {
      "cell_type": "code",
      "execution_count": null,
      "metadata": {
        "execution": {
          "iopub.execute_input": "2021-03-22T21:08:55.775670Z",
          "iopub.status.busy": "2021-03-22T21:08:55.774796Z",
          "iopub.status.idle": "2021-03-22T21:08:55.915877Z",
          "shell.execute_reply": "2021-03-22T21:08:55.914998Z"
        },
        "papermill": {
          "duration": 0.360288,
          "end_time": "2021-03-22T21:08:55.916110",
          "exception": false,
          "start_time": "2021-03-22T21:08:55.555822",
          "status": "completed"
        },
        "tags": [],
        "id": "IQBYOvwQ-eLM",
        "outputId": "f108decf-5f21-4c3d-f327-01c487f066be"
      },
      "outputs": [
        {
          "name": "stdout",
          "output_type": "stream",
          "text": [
            "+------------+--------------------------------------------------+\n",
            "|      intent|                                           snippet|\n",
            "+------------+--------------------------------------------------+\n",
            "|atis_airfare| on april first i need a ticket from tacoma to ...|\n",
            "| atis_flight| on april first i need a flight going from phoe...|\n",
            "| atis_flight| i would like a flight traveling one way from p...|\n",
            "| atis_flight| i would like a flight from orlando to salt lak...|\n",
            "| atis_flight| i need a flight from toronto to newark one way...|\n",
            "| atis_flight| monday morning i would like to fly from columb...|\n",
            "| atis_flight| on wednesday april sixth i would like to fly f...|\n",
            "| atis_flight| after 12 pm on wednesday april sixth i would l...|\n",
            "| atis_flight| are there any flights from long beach to colum...|\n",
            "| atis_flight|       find a flight from memphis to tacoma dinner|\n",
            "| atis_flight| on next wednesday flight from kansas city to c...|\n",
            "| atis_flight| flight on american from miami to chicago arriv...|\n",
            "| atis_flight| find flights arriving new york city next saturday|\n",
            "| atis_flight| find nonstop flights from salt lake city to ne...|\n",
            "| atis_flight|  show flights from burbank to milwaukee for today|\n",
            "| atis_flight| show flights tomorrow evening from milwaukee t...|\n",
            "| atis_flight| show flights saturday evening from st. louis t...|\n",
            "| atis_flight|  show flights from burbank to st. louis on monday|\n",
            "| atis_flight|  show flights from burbank to milwaukee on monday|\n",
            "| atis_flight| show flights tuesday evening from milwaukee to...|\n",
            "+------------+--------------------------------------------------+\n",
            "only showing top 20 rows\n",
            "\n"
          ]
        }
      ],
      "source": [
        "testDataset = spark.createDataFrame(test)\n",
        "testDataset.show(truncate=50)"
      ]
    },
    {
      "cell_type": "code",
      "execution_count": null,
      "metadata": {
        "execution": {
          "iopub.execute_input": "2021-03-22T21:08:56.250501Z",
          "iopub.status.busy": "2021-03-22T21:08:56.249575Z",
          "iopub.status.idle": "2021-03-22T21:08:57.663042Z",
          "shell.execute_reply": "2021-03-22T21:08:57.661953Z"
        },
        "papermill": {
          "duration": 1.567931,
          "end_time": "2021-03-22T21:08:57.663290",
          "exception": false,
          "start_time": "2021-03-22T21:08:56.095359",
          "status": "completed"
        },
        "tags": [],
        "id": "ulZdNdSq-eLN",
        "outputId": "2a91e924-3d91-4d61-881b-b5a0d2ee217d"
      },
      "outputs": [
        {
          "name": "stdout",
          "output_type": "stream",
          "text": [
            "786\n",
            "+-------------------+-----+\n",
            "|             intent|count|\n",
            "+-------------------+-----+\n",
            "|        atis_flight|  631|\n",
            "|       atis_airfare|   48|\n",
            "|       atis_airline|   38|\n",
            "|atis_ground_service|   36|\n",
            "|  atis_abbreviation|   33|\n",
            "+-------------------+-----+\n",
            "\n"
          ]
        }
      ],
      "source": [
        "from pyspark.sql.functions import col\n",
        "\n",
        "print(testDataset.count())\n",
        "\n",
        "testDataset.groupBy(\"intent\") \\\n",
        "    .count() \\\n",
        "    .orderBy(col(\"count\").desc()) \\\n",
        "    .show()"
      ]
    },
    {
      "cell_type": "code",
      "execution_count": null,
      "metadata": {
        "execution": {
          "iopub.execute_input": "2021-03-22T21:08:57.997725Z",
          "iopub.status.busy": "2021-03-22T21:08:57.996691Z",
          "iopub.status.idle": "2021-03-22T21:09:03.417410Z",
          "shell.execute_reply": "2021-03-22T21:09:03.416586Z"
        },
        "papermill": {
          "duration": 5.578341,
          "end_time": "2021-03-22T21:09:03.417569",
          "exception": false,
          "start_time": "2021-03-22T21:08:57.839228",
          "status": "completed"
        },
        "tags": [],
        "id": "m02wwTEi-eLN",
        "outputId": "951a9c06-6cb4-463c-b824-5a8f198087c2"
      },
      "outputs": [
        {
          "name": "stdout",
          "output_type": "stream",
          "text": [
            "lemma_antbnc download started this may take some time.\n",
            "Approximate size to download 907.6 KB\n",
            "[OK!]\n"
          ]
        }
      ],
      "source": [
        "document_assembler = DocumentAssembler() \\\n",
        "    .setInputCol(\"snippet\") \\\n",
        "    .setOutputCol(\"document\")\n",
        "    \n",
        "tokenizer = Tokenizer() \\\n",
        "  .setInputCols([\"document\"]) \\\n",
        "  .setOutputCol(\"token\")\n",
        "    \n",
        "normalizer = Normalizer() \\\n",
        "    .setInputCols([\"token\"]) \\\n",
        "    .setOutputCol(\"normalized\")\n",
        "\n",
        "stopwords_cleaner = StopWordsCleaner()\\\n",
        "      .setInputCols(\"normalized\")\\\n",
        "      .setOutputCol(\"cleanTokens\")\\\n",
        "      .setCaseSensitive(False)\n",
        "\n",
        "lemma = LemmatizerModel.pretrained('lemma_antbnc') \\\n",
        "    .setInputCols([\"cleanTokens\"]) \\\n",
        "    .setOutputCol(\"lemma\")"
      ]
    },
    {
      "cell_type": "code",
      "execution_count": null,
      "metadata": {
        "execution": {
          "iopub.execute_input": "2021-03-22T21:09:03.766771Z",
          "iopub.status.busy": "2021-03-22T21:09:03.765696Z",
          "iopub.status.idle": "2021-03-22T21:09:11.452944Z",
          "shell.execute_reply": "2021-03-22T21:09:11.452251Z"
        },
        "papermill": {
          "duration": 7.874766,
          "end_time": "2021-03-22T21:09:11.453102",
          "exception": false,
          "start_time": "2021-03-22T21:09:03.578336",
          "status": "completed"
        },
        "tags": [],
        "id": "G-ZvKC9l-eLN",
        "outputId": "a793c555-c2d3-445e-e7d1-fb4b44791d56"
      },
      "outputs": [
        {
          "name": "stdout",
          "output_type": "stream",
          "text": [
            "glove_100d download started this may take some time.\n",
            "Approximate size to download 145.3 MB\n",
            "[OK!]\n"
          ]
        }
      ],
      "source": [
        "glove_embeddings = WordEmbeddingsModel().pretrained() \\\n",
        " .setInputCols([\"document\",'lemma'])\\\n",
        " .setOutputCol(\"embeddings\")\\\n",
        " .setCaseSensitive(False)\n",
        "\n",
        "embeddingsSentence = SentenceEmbeddings() \\\n",
        "      .setInputCols([\"document\", \"embeddings\"]) \\\n",
        "      .setOutputCol(\"sentence_embeddings\") \\\n",
        "      .setPoolingStrategy(\"AVERAGE\")\n",
        "\n",
        "classsifierdl = ClassifierDLApproach()\\\n",
        "  .setInputCols([\"sentence_embeddings\"])\\\n",
        "  .setOutputCol(\"class\")\\\n",
        "  .setLabelColumn(\"intent\")\\\n",
        "  .setMaxEpochs(3)\\\n",
        "  .setEnableOutputLogs(True)\n",
        "  #.setOutputLogsPath('logs')\n",
        "\n",
        "clf_pipeline = Pipeline(\n",
        "    stages=[document_assembler, \n",
        "            tokenizer,\n",
        "            normalizer,\n",
        "            stopwords_cleaner, \n",
        "            lemma, \n",
        "            glove_embeddings,\n",
        "            embeddingsSentence,\n",
        "            classsifierdl])"
      ]
    },
    {
      "cell_type": "markdown",
      "metadata": {
        "papermill": {
          "duration": 0.151377,
          "end_time": "2021-03-22T21:09:11.760811",
          "exception": false,
          "start_time": "2021-03-22T21:09:11.609434",
          "status": "completed"
        },
        "tags": [],
        "id": "bt6UTfpY-eLO"
      },
      "source": [
        "### default classifierDL params:\n",
        "\n",
        "maxEpochs -> 10,\n",
        "lr -> 5e-3f,\n",
        "dropout -> 0.5f,\n",
        "batchSize -> 64,\n",
        "enableOutputLogs -> false,\n",
        "verbose -> Verbose.Silent.id,\n",
        "validationSplit -> 0.0f,\n",
        "outputLogsPath -> \"\"\n"
      ]
    },
    {
      "cell_type": "markdown",
      "metadata": {
        "papermill": {
          "duration": 0.15241,
          "end_time": "2021-03-22T21:09:12.064407",
          "exception": false,
          "start_time": "2021-03-22T21:09:11.911997",
          "status": "completed"
        },
        "tags": [],
        "id": "VXXKgduJ-eLO"
      },
      "source": [
        "### Train"
      ]
    },
    {
      "cell_type": "code",
      "execution_count": null,
      "metadata": {
        "execution": {
          "iopub.execute_input": "2021-03-22T21:09:12.373005Z",
          "iopub.status.busy": "2021-03-22T21:09:12.372282Z",
          "iopub.status.idle": "2021-03-22T21:09:30.142784Z",
          "shell.execute_reply": "2021-03-22T21:09:30.143259Z"
        },
        "papermill": {
          "duration": 17.927988,
          "end_time": "2021-03-22T21:09:30.143467",
          "exception": false,
          "start_time": "2021-03-22T21:09:12.215479",
          "status": "completed"
        },
        "tags": [],
        "id": "7NkUeqlk-eLO",
        "outputId": "ba75f644-e1f3-452e-9245-124ebad51b8f"
      },
      "outputs": [
        {
          "name": "stdout",
          "output_type": "stream",
          "text": [
            "CPU times: user 115 ms, sys: 29.6 ms, total: 144 ms\n",
            "Wall time: 17.8 s\n"
          ]
        }
      ],
      "source": [
        "%%time\n",
        "\n",
        "# Train gpu = 14 secs... no gpu 16 secs\n",
        "#spark = sparknlp.start(gpu = True)\n",
        "\n",
        "clf_pipelineModel = clf_pipeline.fit(trainDataset)"
      ]
    },
    {
      "cell_type": "markdown",
      "metadata": {
        "papermill": {
          "duration": 0.151901,
          "end_time": "2021-03-22T21:09:30.448095",
          "exception": false,
          "start_time": "2021-03-22T21:09:30.296194",
          "status": "completed"
        },
        "tags": [],
        "id": "gBvzudK6-eLO"
      },
      "source": [
        "### Test"
      ]
    },
    {
      "cell_type": "code",
      "execution_count": null,
      "metadata": {
        "execution": {
          "iopub.execute_input": "2021-03-22T21:09:30.758217Z",
          "iopub.status.busy": "2021-03-22T21:09:30.757360Z",
          "iopub.status.idle": "2021-03-22T21:09:30.777615Z",
          "shell.execute_reply": "2021-03-22T21:09:30.776978Z"
        },
        "papermill": {
          "duration": 0.177708,
          "end_time": "2021-03-22T21:09:30.777789",
          "exception": false,
          "start_time": "2021-03-22T21:09:30.600081",
          "status": "completed"
        },
        "tags": [],
        "id": "c3lA3zgV-eLP",
        "outputId": "24b86554-f073-49fb-c0dc-c91f41bf2203"
      },
      "outputs": [
        {
          "name": "stdout",
          "output_type": "stream",
          "text": [
            "(799, 2)\n"
          ]
        },
        {
          "data": {
            "text/html": [
              "<div>\n",
              "<style scoped>\n",
              "    .dataframe tbody tr th:only-of-type {\n",
              "        vertical-align: middle;\n",
              "    }\n",
              "\n",
              "    .dataframe tbody tr th {\n",
              "        vertical-align: top;\n",
              "    }\n",
              "\n",
              "    .dataframe thead th {\n",
              "        text-align: right;\n",
              "    }\n",
              "</style>\n",
              "<table border=\"1\" class=\"dataframe\">\n",
              "  <thead>\n",
              "    <tr style=\"text-align: right;\">\n",
              "      <th></th>\n",
              "      <th>intent</th>\n",
              "      <th>snippet</th>\n",
              "    </tr>\n",
              "  </thead>\n",
              "  <tbody>\n",
              "    <tr>\n",
              "      <th>0</th>\n",
              "      <td>atis_airfare</td>\n",
              "      <td>on april first i need a ticket from tacoma to...</td>\n",
              "    </tr>\n",
              "    <tr>\n",
              "      <th>1</th>\n",
              "      <td>atis_flight</td>\n",
              "      <td>on april first i need a flight going from pho...</td>\n",
              "    </tr>\n",
              "    <tr>\n",
              "      <th>2</th>\n",
              "      <td>atis_flight</td>\n",
              "      <td>i would like a flight traveling one way from ...</td>\n",
              "    </tr>\n",
              "    <tr>\n",
              "      <th>3</th>\n",
              "      <td>atis_flight</td>\n",
              "      <td>i would like a flight from orlando to salt la...</td>\n",
              "    </tr>\n",
              "    <tr>\n",
              "      <th>4</th>\n",
              "      <td>atis_flight</td>\n",
              "      <td>i need a flight from toronto to newark one wa...</td>\n",
              "    </tr>\n",
              "  </tbody>\n",
              "</table>\n",
              "</div>"
            ],
            "text/plain": [
              "         intent                                            snippet\n",
              "0  atis_airfare   on april first i need a ticket from tacoma to...\n",
              "1   atis_flight   on april first i need a flight going from pho...\n",
              "2   atis_flight   i would like a flight traveling one way from ...\n",
              "3   atis_flight   i would like a flight from orlando to salt la...\n",
              "4   atis_flight   i need a flight from toronto to newark one wa..."
            ]
          },
          "execution_count": 18,
          "metadata": {},
          "output_type": "execute_result"
        }
      ],
      "source": [
        "test = pd.read_csv('/gdrive/MyDrive/Colab_Notebooks/FA/Project_24thDEC_2021/atis_intents_test.csv')\n",
        "test.columns = ['intent', 'snippet']\n",
        "\n",
        "print(test.shape)\n",
        "test.head()"
      ]
    },
    {
      "cell_type": "code",
      "execution_count": null,
      "metadata": {
        "execution": {
          "iopub.execute_input": "2021-03-22T21:09:31.096817Z",
          "iopub.status.busy": "2021-03-22T21:09:31.096106Z",
          "iopub.status.idle": "2021-03-22T21:09:31.273939Z",
          "shell.execute_reply": "2021-03-22T21:09:31.274788Z"
        },
        "papermill": {
          "duration": 0.341578,
          "end_time": "2021-03-22T21:09:31.275041",
          "exception": false,
          "start_time": "2021-03-22T21:09:30.933463",
          "status": "completed"
        },
        "tags": [],
        "id": "hVlw-Gh4-eLP",
        "outputId": "db827508-a03d-4a0e-82a5-d77a9732ed9b"
      },
      "outputs": [
        {
          "name": "stdout",
          "output_type": "stream",
          "text": [
            "+------------+--------------------+\n",
            "|      intent|             snippet|\n",
            "+------------+--------------------+\n",
            "|atis_airfare| on april first i...|\n",
            "| atis_flight| on april first i...|\n",
            "| atis_flight| i would like a f...|\n",
            "| atis_flight| i would like a f...|\n",
            "| atis_flight| i need a flight ...|\n",
            "| atis_flight| monday morning i...|\n",
            "| atis_flight| on wednesday apr...|\n",
            "| atis_flight| after 12 pm on w...|\n",
            "| atis_flight| are there any fl...|\n",
            "| atis_flight| find a flight fr...|\n",
            "+------------+--------------------+\n",
            "only showing top 10 rows\n",
            "\n"
          ]
        }
      ],
      "source": [
        "testDataset = spark.createDataFrame(test)\n",
        "testDataset.show(10)"
      ]
    },
    {
      "cell_type": "code",
      "execution_count": null,
      "metadata": {
        "execution": {
          "iopub.execute_input": "2021-03-22T21:09:31.594361Z",
          "iopub.status.busy": "2021-03-22T21:09:31.593097Z",
          "iopub.status.idle": "2021-03-22T21:09:39.995596Z",
          "shell.execute_reply": "2021-03-22T21:09:39.994974Z"
        },
        "papermill": {
          "duration": 8.568223,
          "end_time": "2021-03-22T21:09:39.995787",
          "exception": false,
          "start_time": "2021-03-22T21:09:31.427564",
          "status": "completed"
        },
        "tags": [],
        "id": "m0wNyy1Y-eLP",
        "outputId": "2e741f04-55b5-42a0-c4db-b28969dc8760"
      },
      "outputs": [
        {
          "data": {
            "text/html": [
              "<div>\n",
              "<style scoped>\n",
              "    .dataframe tbody tr th:only-of-type {\n",
              "        vertical-align: middle;\n",
              "    }\n",
              "\n",
              "    .dataframe tbody tr th {\n",
              "        vertical-align: top;\n",
              "    }\n",
              "\n",
              "    .dataframe thead th {\n",
              "        text-align: right;\n",
              "    }\n",
              "</style>\n",
              "<table border=\"1\" class=\"dataframe\">\n",
              "  <thead>\n",
              "    <tr style=\"text-align: right;\">\n",
              "      <th></th>\n",
              "      <th>intent</th>\n",
              "      <th>result</th>\n",
              "    </tr>\n",
              "  </thead>\n",
              "  <tbody>\n",
              "    <tr>\n",
              "      <th>389</th>\n",
              "      <td>atis_flight</td>\n",
              "      <td>atis_flight</td>\n",
              "    </tr>\n",
              "    <tr>\n",
              "      <th>190</th>\n",
              "      <td>atis_airline</td>\n",
              "      <td>atis_flight</td>\n",
              "    </tr>\n",
              "    <tr>\n",
              "      <th>325</th>\n",
              "      <td>atis_abbreviation</td>\n",
              "      <td>atis_flight</td>\n",
              "    </tr>\n",
              "    <tr>\n",
              "      <th>137</th>\n",
              "      <td>atis_flight</td>\n",
              "      <td>atis_flight</td>\n",
              "    </tr>\n",
              "    <tr>\n",
              "      <th>14</th>\n",
              "      <td>atis_flight</td>\n",
              "      <td>atis_flight</td>\n",
              "    </tr>\n",
              "    <tr>\n",
              "      <th>624</th>\n",
              "      <td>atis_airfare</td>\n",
              "      <td>atis_flight</td>\n",
              "    </tr>\n",
              "    <tr>\n",
              "      <th>766</th>\n",
              "      <td>atis_flight</td>\n",
              "      <td>atis_flight</td>\n",
              "    </tr>\n",
              "    <tr>\n",
              "      <th>490</th>\n",
              "      <td>atis_airline</td>\n",
              "      <td>atis_flight</td>\n",
              "    </tr>\n",
              "    <tr>\n",
              "      <th>638</th>\n",
              "      <td>atis_flight</td>\n",
              "      <td>atis_flight</td>\n",
              "    </tr>\n",
              "    <tr>\n",
              "      <th>590</th>\n",
              "      <td>atis_flight</td>\n",
              "      <td>atis_flight</td>\n",
              "    </tr>\n",
              "  </tbody>\n",
              "</table>\n",
              "</div>"
            ],
            "text/plain": [
              "                intent       result\n",
              "389        atis_flight  atis_flight\n",
              "190       atis_airline  atis_flight\n",
              "325  atis_abbreviation  atis_flight\n",
              "137        atis_flight  atis_flight\n",
              "14         atis_flight  atis_flight\n",
              "624       atis_airfare  atis_flight\n",
              "766        atis_flight  atis_flight\n",
              "490       atis_airline  atis_flight\n",
              "638        atis_flight  atis_flight\n",
              "590        atis_flight  atis_flight"
            ]
          },
          "execution_count": 20,
          "metadata": {},
          "output_type": "execute_result"
        }
      ],
      "source": [
        "# get the predictions on test Set\n",
        "\n",
        "preds = clf_pipelineModel.transform(testDataset)\n",
        "preds_df = preds.select(\"intent\",\"class.result\").toPandas()\n",
        "for j in range(preds_df.shape[0]):\n",
        "    preds_df.result[j] = preds_df.result[j][0]\n",
        "preds_df.sample(10)"
      ]
    },
    {
      "cell_type": "code",
      "execution_count": null,
      "metadata": {
        "execution": {
          "iopub.execute_input": "2021-03-22T21:09:40.370748Z",
          "iopub.status.busy": "2021-03-22T21:09:40.346166Z",
          "iopub.status.idle": "2021-03-22T21:09:40.421509Z",
          "shell.execute_reply": "2021-03-22T21:09:40.422084Z"
        },
        "papermill": {
          "duration": 0.263845,
          "end_time": "2021-03-22T21:09:40.422486",
          "exception": false,
          "start_time": "2021-03-22T21:09:40.158641",
          "status": "completed"
        },
        "tags": [],
        "id": "T36YlMki-eLP",
        "outputId": "f8d650b3-f424-4d1a-b912-b75205e129a1"
      },
      "outputs": [
        {
          "name": "stdout",
          "output_type": "stream",
          "text": [
            "                     precision    recall  f1-score   support\n",
            "\n",
            "  atis_abbreviation       0.00      0.00      0.00        33\n",
            "      atis_aircraft       0.00      0.00      0.00         9\n",
            "       atis_airfare       0.00      0.00      0.00        48\n",
            "       atis_airline       0.00      0.00      0.00        38\n",
            "        atis_flight       0.79      1.00      0.88       631\n",
            "   atis_flight_time       0.00      0.00      0.00         1\n",
            "atis_ground_service       0.00      0.00      0.00        36\n",
            "      atis_quantity       0.00      0.00      0.00         3\n",
            "\n",
            "           accuracy                           0.79       799\n",
            "          macro avg       0.10      0.12      0.11       799\n",
            "       weighted avg       0.62      0.79      0.70       799\n",
            "\n"
          ]
        },
        {
          "name": "stderr",
          "output_type": "stream",
          "text": [
            "/opt/conda/lib/python3.7/site-packages/sklearn/metrics/_classification.py:1245: UndefinedMetricWarning: Precision and F-score are ill-defined and being set to 0.0 in labels with no predicted samples. Use `zero_division` parameter to control this behavior.\n",
            "  _warn_prf(average, modifier, msg_start, len(result))\n",
            "/opt/conda/lib/python3.7/site-packages/sklearn/metrics/_classification.py:1245: UndefinedMetricWarning: Precision and F-score are ill-defined and being set to 0.0 in labels with no predicted samples. Use `zero_division` parameter to control this behavior.\n",
            "  _warn_prf(average, modifier, msg_start, len(result))\n",
            "/opt/conda/lib/python3.7/site-packages/sklearn/metrics/_classification.py:1245: UndefinedMetricWarning: Precision and F-score are ill-defined and being set to 0.0 in labels with no predicted samples. Use `zero_division` parameter to control this behavior.\n",
            "  _warn_prf(average, modifier, msg_start, len(result))\n"
          ]
        }
      ],
      "source": [
        "\n",
        "# Definitely WORSE than the pretrained model above...this one always predicts the majority class \n",
        "\n",
        "print(classification_report(preds_df.intent, preds_df.result))"
      ]
    },
    {
      "cell_type": "code",
      "execution_count": null,
      "metadata": {
        "execution": {
          "iopub.execute_input": "2021-03-22T21:09:41.087610Z",
          "iopub.status.busy": "2021-03-22T21:09:41.086493Z",
          "iopub.status.idle": "2021-03-22T21:12:21.925662Z",
          "shell.execute_reply": "2021-03-22T21:12:21.925064Z"
        },
        "papermill": {
          "duration": 161.019116,
          "end_time": "2021-03-22T21:12:21.927050",
          "exception": false,
          "start_time": "2021-03-22T21:09:40.907934",
          "status": "completed"
        },
        "tags": [],
        "id": "Ynst9FFm-eLP",
        "outputId": "46a29588-960d-4614-f9ff-343689d31330"
      },
      "outputs": [
        {
          "name": "stdout",
          "output_type": "stream",
          "text": [
            "glove_840B_300 download started this may take some time.\n",
            "Approximate size to download 2.3 GB\n",
            "[OK!]\n",
            "nerdl_atis_840b_300d download started this may take some time.\n",
            "Approximate size to download 14.5 MB\n",
            "[OK!]\n",
            "CPU times: user 169 ms, sys: 67.2 ms, total: 236 ms\n",
            "Wall time: 2min 40s\n"
          ]
        }
      ],
      "source": [
        "%%time\n",
        "\n",
        "document_assembler = DocumentAssembler()\\\n",
        "    .setInputCol(\"text\")\\\n",
        "    .setOutputCol(\"document\")\n",
        "\n",
        "tokenizer = Tokenizer() \\\n",
        "  .setInputCols([\"document\"]) \\\n",
        "  .setOutputCol(\"token\")\n",
        "\n",
        "embeddings = WordEmbeddingsModel.pretrained(\"glove_840B_300\", \"xx\")\\\n",
        "          .setInputCols(\"document\", \"token\") \\\n",
        "          .setOutputCol(\"embeddings\")\n",
        "\n",
        "ner = NerDLModel.pretrained(\"nerdl_atis_840b_300d\", \"en\") \\\n",
        "        .setInputCols([\"document\", \"token\", \"embeddings\"]) \\\n",
        "        .setOutputCol(\"ner\")\n",
        "\n",
        "ner_converter = NerConverter()\\\n",
        "    .setInputCols(['document', 'token', 'ner']) \\\n",
        "    .setOutputCol('ner_chunk')\n",
        "\n",
        "pipeline = Pipeline(stages=[document_assembler, tokenizer, embeddings, ner, ner_converter])\n"
      ]
    },
    {
      "cell_type": "code",
      "execution_count": null,
      "metadata": {
        "execution": {
          "iopub.execute_input": "2021-03-22T21:12:22.309881Z",
          "iopub.status.busy": "2021-03-22T21:12:22.306137Z",
          "iopub.status.idle": "2021-03-22T21:12:22.700717Z",
          "shell.execute_reply": "2021-03-22T21:12:22.699822Z"
        },
        "papermill": {
          "duration": 0.594463,
          "end_time": "2021-03-22T21:12:22.700966",
          "exception": false,
          "start_time": "2021-03-22T21:12:22.106503",
          "status": "completed"
        },
        "tags": [],
        "id": "isOb3II1-eLQ",
        "outputId": "8f4d7bcd-68dc-4259-aee2-84204d320ff9"
      },
      "outputs": [
        {
          "data": {
            "text/plain": [
              "DataFrame[text: string, document: array<struct<annotatorType:string,begin:int,end:int,result:string,metadata:map<string,string>,embeddings:array<float>>>, token: array<struct<annotatorType:string,begin:int,end:int,result:string,metadata:map<string,string>,embeddings:array<float>>>, embeddings: array<struct<annotatorType:string,begin:int,end:int,result:string,metadata:map<string,string>,embeddings:array<float>>>, ner: array<struct<annotatorType:string,begin:int,end:int,result:string,metadata:map<string,string>,embeddings:array<float>>>, ner_chunk: array<struct<annotatorType:string,begin:int,end:int,result:string,metadata:map<string,string>,embeddings:array<float>>>]"
            ]
          },
          "execution_count": 23,
          "metadata": {},
          "output_type": "execute_result"
        }
      ],
      "source": [
        "example = spark.createDataFrame(pd.DataFrame({'text': [\n",
        "    \"How much would cost a trip from Albany to Miami for tomorrow\"\n",
        "    ]}))\n",
        "result = pipeline.fit(example).transform(example)\n",
        "\n",
        "result"
      ]
    },
    {
      "cell_type": "code",
      "execution_count": null,
      "metadata": {
        "execution": {
          "iopub.execute_input": "2021-03-22T21:12:23.073850Z",
          "iopub.status.busy": "2021-03-22T21:12:23.072791Z",
          "iopub.status.idle": "2021-03-22T21:12:24.858908Z",
          "shell.execute_reply": "2021-03-22T21:12:24.858288Z"
        },
        "papermill": {
          "duration": 1.975473,
          "end_time": "2021-03-22T21:12:24.859072",
          "exception": false,
          "start_time": "2021-03-22T21:12:22.883599",
          "status": "completed"
        },
        "tags": [],
        "id": "1yAbopI_-eLQ",
        "outputId": "4b7c1a90-4b62-4ae7-dc29-0b64c014b657"
      },
      "outputs": [
        {
          "name": "stdout",
          "output_type": "stream",
          "text": [
            "+--------+--------------------------+\n",
            "|chunk   |ner_label                 |\n",
            "+--------+--------------------------+\n",
            "|Albany  |fromloc.airport_code      |\n",
            "|Miami   |toloc.city_name           |\n",
            "|tomorrow|depart_date.today_relative|\n",
            "+--------+--------------------------+\n",
            "\n"
          ]
        }
      ],
      "source": [
        "# Visualize outputs as data frame ... NOTE pyspark df not pandas df...\n",
        "\n",
        "exploded = F.explode(F.arrays_zip('ner_chunk.result', 'ner_chunk.metadata'))\n",
        "select_expression_0 = F.expr(\"cols['0']\").alias(\"chunk\")\n",
        "select_expression_1 = F.expr(\"cols['1']['entity']\").alias(\"ner_label\")\n",
        "result.select(exploded.alias(\"cols\")) \\\n",
        "    .select(select_expression_0, select_expression_1).show(truncate=False)"
      ]
    },
    {
      "cell_type": "code",
      "execution_count": null,
      "metadata": {
        "execution": {
          "iopub.execute_input": "2021-03-22T21:12:25.230856Z",
          "iopub.status.busy": "2021-03-22T21:12:25.229885Z",
          "iopub.status.idle": "2021-03-22T21:12:25.661559Z",
          "shell.execute_reply": "2021-03-22T21:12:25.660802Z"
        },
        "papermill": {
          "duration": 0.619569,
          "end_time": "2021-03-22T21:12:25.661712",
          "exception": false,
          "start_time": "2021-03-22T21:12:25.042143",
          "status": "completed"
        },
        "tags": [],
        "id": "LKrZbD50-eLQ",
        "outputId": "bb3b982f-e562-4b59-b96d-c97441b80f65"
      },
      "outputs": [
        {
          "data": {
            "text/html": [
              "<div>\n",
              "<style scoped>\n",
              "    .dataframe tbody tr th:only-of-type {\n",
              "        vertical-align: middle;\n",
              "    }\n",
              "\n",
              "    .dataframe tbody tr th {\n",
              "        vertical-align: top;\n",
              "    }\n",
              "\n",
              "    .dataframe thead th {\n",
              "        text-align: right;\n",
              "    }\n",
              "</style>\n",
              "<table border=\"1\" class=\"dataframe\">\n",
              "  <thead>\n",
              "    <tr style=\"text-align: right;\">\n",
              "      <th></th>\n",
              "      <th>text</th>\n",
              "      <th>document</th>\n",
              "      <th>token</th>\n",
              "      <th>embeddings</th>\n",
              "      <th>ner</th>\n",
              "      <th>ner_chunk</th>\n",
              "    </tr>\n",
              "  </thead>\n",
              "  <tbody>\n",
              "    <tr>\n",
              "      <th>0</th>\n",
              "      <td>How much would cost a trip from Albany to Miam...</td>\n",
              "      <td>[(document, 0, 59, How much would cost a trip ...</td>\n",
              "      <td>[(token, 0, 2, How, {'sentence': '0'}, []), (t...</td>\n",
              "      <td>[(word_embeddings, 0, 2, How, {'sentence': '0'...</td>\n",
              "      <td>[(named_entity, 0, 2, O, {'word': 'How', 'conf...</td>\n",
              "      <td>[(chunk, 32, 37, Albany, {'sentence': '0', 'ch...</td>\n",
              "    </tr>\n",
              "  </tbody>\n",
              "</table>\n",
              "</div>"
            ],
            "text/plain": [
              "                                                text  \\\n",
              "0  How much would cost a trip from Albany to Miam...   \n",
              "\n",
              "                                            document  \\\n",
              "0  [(document, 0, 59, How much would cost a trip ...   \n",
              "\n",
              "                                               token  \\\n",
              "0  [(token, 0, 2, How, {'sentence': '0'}, []), (t...   \n",
              "\n",
              "                                          embeddings  \\\n",
              "0  [(word_embeddings, 0, 2, How, {'sentence': '0'...   \n",
              "\n",
              "                                                 ner  \\\n",
              "0  [(named_entity, 0, 2, O, {'word': 'How', 'conf...   \n",
              "\n",
              "                                           ner_chunk  \n",
              "0  [(chunk, 32, 37, Albany, {'sentence': '0', 'ch...  "
            ]
          },
          "execution_count": 25,
          "metadata": {},
          "output_type": "execute_result"
        }
      ],
      "source": [
        "resultDF = result.toPandas()\n",
        "resultDF"
      ]
    },
    {
      "cell_type": "code",
      "execution_count": null,
      "metadata": {
        "execution": {
          "iopub.execute_input": "2021-03-22T21:12:26.073624Z",
          "iopub.status.busy": "2021-03-22T21:12:26.072457Z",
          "iopub.status.idle": "2021-03-22T21:12:26.078771Z",
          "shell.execute_reply": "2021-03-22T21:12:26.078071Z"
        },
        "papermill": {
          "duration": 0.229258,
          "end_time": "2021-03-22T21:12:26.078928",
          "exception": false,
          "start_time": "2021-03-22T21:12:25.849670",
          "status": "completed"
        },
        "tags": [],
        "id": "M--VWv61-eLQ",
        "outputId": "75bc53e4-e01d-4921-a133-b1ba20cb6c58"
      },
      "outputs": [
        {
          "data": {
            "text/html": [
              "<div>\n",
              "<style scoped>\n",
              "    .dataframe tbody tr th:only-of-type {\n",
              "        vertical-align: middle;\n",
              "    }\n",
              "\n",
              "    .dataframe tbody tr th {\n",
              "        vertical-align: top;\n",
              "    }\n",
              "\n",
              "    .dataframe thead th {\n",
              "        text-align: right;\n",
              "    }\n",
              "</style>\n",
              "<table border=\"1\" class=\"dataframe\">\n",
              "  <thead>\n",
              "    <tr style=\"text-align: right;\">\n",
              "      <th></th>\n",
              "      <th>Result</th>\n",
              "      <th>Entity</th>\n",
              "      <th>StrBegin</th>\n",
              "      <th>StrEnd</th>\n",
              "    </tr>\n",
              "  </thead>\n",
              "  <tbody>\n",
              "    <tr>\n",
              "      <th>0</th>\n",
              "      <td>Albany</td>\n",
              "      <td>fromloc.airport_code</td>\n",
              "      <td>32</td>\n",
              "      <td>37</td>\n",
              "    </tr>\n",
              "    <tr>\n",
              "      <th>0</th>\n",
              "      <td>Miami</td>\n",
              "      <td>toloc.city_name</td>\n",
              "      <td>42</td>\n",
              "      <td>46</td>\n",
              "    </tr>\n",
              "    <tr>\n",
              "      <th>0</th>\n",
              "      <td>tomorrow</td>\n",
              "      <td>depart_date.today_relative</td>\n",
              "      <td>52</td>\n",
              "      <td>59</td>\n",
              "    </tr>\n",
              "  </tbody>\n",
              "</table>\n",
              "</div>"
            ],
            "text/plain": [
              "     Result                      Entity StrBegin StrEnd\n",
              "0    Albany        fromloc.airport_code       32     37\n",
              "0     Miami             toloc.city_name       42     46\n",
              "0  tomorrow  depart_date.today_relative       52     59"
            ]
          },
          "execution_count": 26,
          "metadata": {},
          "output_type": "execute_result"
        }
      ],
      "source": [
        "IOIdf = pd.DataFrame(columns = ['Result', 'Entity', 'StrBegin', 'StrEnd'])\n",
        "\n",
        "\n",
        "for i in range(len(resultDF['ner_chunk'][0])):\n",
        "    #ResultEntity = [result['ner_chunk'][0][i]['result'] , result['ner_chunk'][0][i]['metadata']['entity']]\n",
        "    ResultEntity = pd.DataFrame()\n",
        "    ResultEntity['Result'] = [resultDF['ner_chunk'][0][i]['result']]\n",
        "    ResultEntity['Entity'] = [resultDF['ner_chunk'][0][i]['metadata']['entity']]\n",
        "    ResultEntity['StrBegin'] = [resultDF['ner_chunk'][0][i]['begin']]\n",
        "    ResultEntity['StrEnd'] = [resultDF['ner_chunk'][0][i]['end']]\n",
        "    #print(ResultEntity)\n",
        "    \n",
        "    IOIdf = IOIdf.append(ResultEntity)\n",
        "    \n",
        "IOIdf \n"
      ]
    },
    {
      "cell_type": "code",
      "execution_count": null,
      "metadata": {
        "execution": {
          "iopub.execute_input": "2021-03-22T21:12:26.448635Z",
          "iopub.status.busy": "2021-03-22T21:12:26.447909Z",
          "iopub.status.idle": "2021-03-22T21:12:26.453451Z",
          "shell.execute_reply": "2021-03-22T21:12:26.452681Z"
        },
        "papermill": {
          "duration": 0.192039,
          "end_time": "2021-03-22T21:12:26.453616",
          "exception": false,
          "start_time": "2021-03-22T21:12:26.261577",
          "status": "completed"
        },
        "tags": [],
        "id": "i2oVVHLJ-eLR",
        "outputId": "cf4f8ba1-023b-44db-ee0b-bef8aaef2fb3"
      },
      "outputs": [
        {
          "data": {
            "text/plain": [
              "DataFrame[text: string, document: array<struct<annotatorType:string,begin:int,end:int,result:string,metadata:map<string,string>,embeddings:array<float>>>, token: array<struct<annotatorType:string,begin:int,end:int,result:string,metadata:map<string,string>,embeddings:array<float>>>, embeddings: array<struct<annotatorType:string,begin:int,end:int,result:string,metadata:map<string,string>,embeddings:array<float>>>, ner: array<struct<annotatorType:string,begin:int,end:int,result:string,metadata:map<string,string>,embeddings:array<float>>>, ner_chunk: array<struct<annotatorType:string,begin:int,end:int,result:string,metadata:map<string,string>,embeddings:array<float>>>]"
            ]
          },
          "execution_count": 27,
          "metadata": {},
          "output_type": "execute_result"
        }
      ],
      "source": [
        "result"
      ]
    }
  ],
  "metadata": {
    "kernelspec": {
      "display_name": "Python 3",
      "language": "python",
      "name": "python3"
    },
    "language_info": {
      "codemirror_mode": {
        "name": "ipython",
        "version": 3
      },
      "file_extension": ".py",
      "mimetype": "text/x-python",
      "name": "python",
      "nbconvert_exporter": "python",
      "pygments_lexer": "ipython3",
      "version": "3.7.9"
    },
    "papermill": {
      "default_parameters": {},
      "duration": 433.52435,
      "end_time": "2021-03-22T21:12:28.304904",
      "environment_variables": {},
      "exception": null,
      "input_path": "__notebook__.ipynb",
      "output_path": "__notebook__.ipynb",
      "parameters": {},
      "start_time": "2021-03-22T21:05:14.780554",
      "version": "2.2.2"
    },
    "colab": {
      "name": "Project-2.ipynb",
      "provenance": [],
      "collapsed_sections": []
    }
  },
  "nbformat": 4,
  "nbformat_minor": 0
}